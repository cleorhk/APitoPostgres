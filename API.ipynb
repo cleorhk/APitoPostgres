{
 "cells": [
  {
   "cell_type": "code",
   "execution_count": 2,
   "id": "5821c21e-1d2d-4697-8ad1-15f52f755b3c",
   "metadata": {},
   "outputs": [
    {
     "name": "stdout",
     "output_type": "stream",
     "text": [
      "{'Meta Data': {'1. Information': 'Intraday (5min) open, high, low, close prices and volume', '2. Symbol': 'IBM', '3. Last Refreshed': '2024-07-19 19:55:00', '4. Interval': '5min', '5. Output Size': 'Compact', '6. Time Zone': 'US/Eastern'}, 'Time Series (5min)': {'2024-07-19 19:55:00': {'1. open': '183.1100', '2. high': '183.1100', '3. low': '183.0300', '4. close': '183.0300', '5. volume': '9'}, '2024-07-19 19:45:00': {'1. open': '183.0100', '2. high': '183.0100', '3. low': '183.0100', '4. close': '183.0100', '5. volume': '80'}, '2024-07-19 19:40:00': {'1. open': '183.5000', '2. high': '183.5000', '3. low': '183.5000', '4. close': '183.5000', '5. volume': '30'}, '2024-07-19 19:35:00': {'1. open': '183.5000', '2. high': '187.0300', '3. low': '183.5000', '4. close': '187.0300', '5. volume': '30'}, '2024-07-19 19:30:00': {'1. open': '183.2000', '2. high': '183.4700', '3. low': '183.2000', '4. close': '183.4700', '5. volume': '17'}, '2024-07-19 19:15:00': {'1. open': '183.0100', '2. high': '183.5000', '3. low': '183.0100', '4. close': '183.5000', '5. volume': '244'}, '2024-07-19 19:10:00': {'1. open': '183.0100', '2. high': '183.0100', '3. low': '183.0100', '4. close': '183.0100', '5. volume': '500'}, '2024-07-19 19:05:00': {'1. open': '183.2500', '2. high': '183.2500', '3. low': '183.2500', '4. close': '183.2500', '5. volume': '400'}, '2024-07-19 19:00:00': {'1. open': '183.2500', '2. high': '183.2500', '3. low': '183.2500', '4. close': '183.2500', '5. volume': '617080'}, '2024-07-19 18:55:00': {'1. open': '183.4000', '2. high': '183.4000', '3. low': '183.4000', '4. close': '183.4000', '5. volume': '1'}, '2024-07-19 18:50:00': {'1. open': '183.2500', '2. high': '183.2600', '3. low': '183.2500', '4. close': '183.2500', '5. volume': '46'}, '2024-07-19 18:40:00': {'1. open': '180.5000', '2. high': '185.0200', '3. low': '180.5000', '4. close': '183.2500', '5. volume': '303'}, '2024-07-19 18:30:00': {'1. open': '183.2500', '2. high': '183.2900', '3. low': '183.2500', '4. close': '183.2900', '5. volume': '617082'}, '2024-07-19 18:20:00': {'1. open': '184.4000', '2. high': '184.4000', '3. low': '183.3000', '4. close': '184.4000', '5. volume': '14'}, '2024-07-19 18:15:00': {'1. open': '183.9900', '2. high': '183.9900', '3. low': '183.2900', '4. close': '183.2900', '5. volume': '36'}, '2024-07-19 18:05:00': {'1. open': '183.2900', '2. high': '183.2900', '3. low': '183.2900', '4. close': '183.2900', '5. volume': '10'}, '2024-07-19 18:00:00': {'1. open': '183.9900', '2. high': '183.9900', '3. low': '183.9900', '4. close': '183.9900', '5. volume': '1'}, '2024-07-19 17:55:00': {'1. open': '183.9900', '2. high': '183.9900', '3. low': '183.8800', '4. close': '183.8800', '5. volume': '2'}, '2024-07-19 17:40:00': {'1. open': '183.2500', '2. high': '183.5000', '3. low': '183.2500', '4. close': '183.5000', '5. volume': '11'}, '2024-07-19 17:30:00': {'1. open': '183.5000', '2. high': '183.5000', '3. low': '183.5000', '4. close': '183.5000', '5. volume': '1'}, '2024-07-19 17:20:00': {'1. open': '183.2800', '2. high': '184.4000', '3. low': '183.2800', '4. close': '184.4000', '5. volume': '7'}, '2024-07-19 17:15:00': {'1. open': '183.2700', '2. high': '183.2700', '3. low': '183.2700', '4. close': '183.2700', '5. volume': '1'}, '2024-07-19 17:10:00': {'1. open': '183.2500', '2. high': '183.2500', '3. low': '183.2500', '4. close': '183.2500', '5. volume': '1'}, '2024-07-19 17:05:00': {'1. open': '183.5000', '2. high': '183.5000', '3. low': '183.5000', '4. close': '183.5000', '5. volume': '6'}, '2024-07-19 17:00:00': {'1. open': '186.3300', '2. high': '186.3300', '3. low': '184.4000', '4. close': '184.4000', '5. volume': '4'}, '2024-07-19 16:55:00': {'1. open': '183.0100', '2. high': '184.4000', '3. low': '183.0100', '4. close': '184.4000', '5. volume': '1892'}, '2024-07-19 16:50:00': {'1. open': '183.2500', '2. high': '183.2500', '3. low': '183.2500', '4. close': '183.2500', '5. volume': '10'}, '2024-07-19 16:40:00': {'1. open': '183.2500', '2. high': '183.2500', '3. low': '183.0000', '4. close': '183.0100', '5. volume': '30'}, '2024-07-19 16:35:00': {'1. open': '183.2500', '2. high': '183.2500', '3. low': '183.2400', '4. close': '183.2500', '5. volume': '320'}, '2024-07-19 16:30:00': {'1. open': '182.9500', '2. high': '182.9500', '3. low': '182.9500', '4. close': '182.9500', '5. volume': '2'}, '2024-07-19 16:25:00': {'1. open': '183.2000', '2. high': '183.2500', '3. low': '183.2000', '4. close': '183.2500', '5. volume': '1195'}, '2024-07-19 16:20:00': {'1. open': '180.5000', '2. high': '180.5000', '3. low': '180.5000', '4. close': '180.5000', '5. volume': '1'}, '2024-07-19 16:15:00': {'1. open': '183.2500', '2. high': '183.2500', '3. low': '183.1500', '4. close': '183.2400', '5. volume': '34'}, '2024-07-19 16:10:00': {'1. open': '183.2500', '2. high': '183.2500', '3. low': '183.1500', '4. close': '183.1500', '5. volume': '617591'}, '2024-07-19 16:05:00': {'1. open': '180.5000', '2. high': '183.2500', '3. low': '180.5000', '4. close': '183.2500', '5. volume': '85013'}, '2024-07-19 16:00:00': {'1. open': '183.2500', '2. high': '184.0000', '3. low': '177.6400', '4. close': '177.6400', '5. volume': '1414446'}, '2024-07-19 15:55:00': {'1. open': '182.8200', '2. high': '183.2800', '3. low': '182.7550', '4. close': '183.2500', '5. volume': '658520'}, '2024-07-19 15:50:00': {'1. open': '182.6900', '2. high': '182.8800', '3. low': '182.6650', '4. close': '182.8450', '5. volume': '106611'}, '2024-07-19 15:45:00': {'1. open': '182.3790', '2. high': '182.7450', '3. low': '182.3700', '4. close': '182.7000', '5. volume': '70770'}, '2024-07-19 15:40:00': {'1. open': '182.4600', '2. high': '182.5200', '3. low': '182.3300', '4. close': '182.3600', '5. volume': '45481'}, '2024-07-19 15:35:00': {'1. open': '182.5400', '2. high': '182.6100', '3. low': '182.3600', '4. close': '182.4800', '5. volume': '35662'}, '2024-07-19 15:30:00': {'1. open': '182.5950', '2. high': '182.6600', '3. low': '182.4900', '4. close': '182.5100', '5. volume': '34276'}, '2024-07-19 15:25:00': {'1. open': '182.7000', '2. high': '182.7300', '3. low': '182.5800', '4. close': '182.6000', '5. volume': '18787'}, '2024-07-19 15:20:00': {'1. open': '182.7100', '2. high': '182.8700', '3. low': '182.6900', '4. close': '182.6900', '5. volume': '26204'}, '2024-07-19 15:15:00': {'1. open': '182.6300', '2. high': '182.7300', '3. low': '182.5200', '4. close': '182.6960', '5. volume': '25613'}, '2024-07-19 15:10:00': {'1. open': '182.5350', '2. high': '182.7550', '3. low': '182.5350', '4. close': '182.6500', '5. volume': '33447'}, '2024-07-19 15:05:00': {'1. open': '182.5700', '2. high': '182.6990', '3. low': '182.4000', '4. close': '182.5400', '5. volume': '30714'}, '2024-07-19 15:00:00': {'1. open': '182.2700', '2. high': '182.5900', '3. low': '182.2700', '4. close': '182.5550', '5. volume': '24253'}, '2024-07-19 14:55:00': {'1. open': '182.1450', '2. high': '182.2600', '3. low': '182.0650', '4. close': '182.2540', '5. volume': '36475'}, '2024-07-19 14:50:00': {'1. open': '182.0850', '2. high': '182.2900', '3. low': '182.0450', '4. close': '182.1400', '5. volume': '45892'}, '2024-07-19 14:45:00': {'1. open': '181.9900', '2. high': '182.1800', '3. low': '181.9650', '4. close': '182.1000', '5. volume': '69909'}, '2024-07-19 14:40:00': {'1. open': '182.2200', '2. high': '182.2600', '3. low': '181.9500', '4. close': '181.9700', '5. volume': '63577'}, '2024-07-19 14:35:00': {'1. open': '182.3600', '2. high': '182.3950', '3. low': '182.1800', '4. close': '182.2400', '5. volume': '33977'}, '2024-07-19 14:30:00': {'1. open': '182.4300', '2. high': '182.4700', '3. low': '182.3000', '4. close': '182.3600', '5. volume': '32351'}, '2024-07-19 14:25:00': {'1. open': '182.5700', '2. high': '182.6800', '3. low': '182.4100', '4. close': '182.4600', '5. volume': '24113'}, '2024-07-19 14:20:00': {'1. open': '182.6800', '2. high': '182.6800', '3. low': '182.5000', '4. close': '182.5400', '5. volume': '19895'}, '2024-07-19 14:15:00': {'1. open': '182.7600', '2. high': '182.8800', '3. low': '182.6900', '4. close': '182.6900', '5. volume': '15921'}, '2024-07-19 14:10:00': {'1. open': '182.8900', '2. high': '182.9050', '3. low': '182.7400', '4. close': '182.7700', '5. volume': '10724'}, '2024-07-19 14:05:00': {'1. open': '182.7600', '2. high': '182.9200', '3. low': '182.7600', '4. close': '182.9000', '5. volume': '12888'}, '2024-07-19 14:00:00': {'1. open': '182.9000', '2. high': '182.9100', '3. low': '182.6700', '4. close': '182.7400', '5. volume': '15695'}, '2024-07-19 13:55:00': {'1. open': '182.6400', '2. high': '182.9200', '3. low': '182.5800', '4. close': '182.9200', '5. volume': '26097'}, '2024-07-19 13:50:00': {'1. open': '182.7400', '2. high': '182.7400', '3. low': '182.6000', '4. close': '182.6600', '5. volume': '11291'}, '2024-07-19 13:45:00': {'1. open': '182.4600', '2. high': '182.8400', '3. low': '182.4600', '4. close': '182.7900', '5. volume': '16453'}, '2024-07-19 13:40:00': {'1. open': '182.5900', '2. high': '182.5900', '3. low': '182.3900', '4. close': '182.4200', '5. volume': '14507'}, '2024-07-19 13:35:00': {'1. open': '182.4450', '2. high': '182.6700', '3. low': '182.4200', '4. close': '182.6260', '5. volume': '10538'}, '2024-07-19 13:30:00': {'1. open': '182.4900', '2. high': '182.5350', '3. low': '182.3900', '4. close': '182.4300', '5. volume': '26838'}, '2024-07-19 13:25:00': {'1. open': '182.6050', '2. high': '182.7400', '3. low': '182.5200', '4. close': '182.5600', '5. volume': '16228'}, '2024-07-19 13:20:00': {'1. open': '182.6510', '2. high': '182.6900', '3. low': '182.4800', '4. close': '182.6100', '5. volume': '19792'}, '2024-07-19 13:15:00': {'1. open': '182.7650', '2. high': '182.7800', '3. low': '182.6200', '4. close': '182.6800', '5. volume': '18814'}, '2024-07-19 13:10:00': {'1. open': '182.8400', '2. high': '182.8500', '3. low': '182.7200', '4. close': '182.7600', '5. volume': '18520'}, '2024-07-19 13:05:00': {'1. open': '182.7150', '2. high': '182.8250', '3. low': '182.6500', '4. close': '182.8140', '5. volume': '11986'}, '2024-07-19 13:00:00': {'1. open': '182.8000', '2. high': '182.8750', '3. low': '182.7000', '4. close': '182.7000', '5. volume': '16808'}, '2024-07-19 12:55:00': {'1. open': '182.9200', '2. high': '183.0600', '3. low': '182.8100', '4. close': '182.8500', '5. volume': '28288'}, '2024-07-19 12:50:00': {'1. open': '182.9800', '2. high': '183.0700', '3. low': '182.8600', '4. close': '182.9000', '5. volume': '14420'}, '2024-07-19 12:45:00': {'1. open': '183.1400', '2. high': '183.1400', '3. low': '182.8900', '4. close': '182.9400', '5. volume': '16233'}, '2024-07-19 12:40:00': {'1. open': '183.1150', '2. high': '183.2200', '3. low': '183.0800', '4. close': '183.0800', '5. volume': '15511'}, '2024-07-19 12:35:00': {'1. open': '183.2250', '2. high': '183.3400', '3. low': '183.0100', '4. close': '183.1300', '5. volume': '17727'}, '2024-07-19 12:30:00': {'1. open': '183.2600', '2. high': '183.3200', '3. low': '183.1600', '4. close': '183.2250', '5. volume': '16345'}, '2024-07-19 12:25:00': {'1. open': '183.3400', '2. high': '183.3900', '3. low': '183.1440', '4. close': '183.2600', '5. volume': '21347'}, '2024-07-19 12:20:00': {'1. open': '183.4100', '2. high': '183.4400', '3. low': '183.2700', '4. close': '183.3300', '5. volume': '16985'}, '2024-07-19 12:15:00': {'1. open': '183.4800', '2. high': '183.5500', '3. low': '183.4460', '4. close': '183.4500', '5. volume': '13287'}, '2024-07-19 12:10:00': {'1. open': '183.4400', '2. high': '183.4900', '3. low': '183.3200', '4. close': '183.4100', '5. volume': '11607'}, '2024-07-19 12:05:00': {'1. open': '183.4900', '2. high': '183.6300', '3. low': '183.4100', '4. close': '183.4500', '5. volume': '12015'}, '2024-07-19 12:00:00': {'1. open': '183.5400', '2. high': '183.7200', '3. low': '183.4500', '4. close': '183.5200', '5. volume': '17265'}, '2024-07-19 11:55:00': {'1. open': '183.0600', '2. high': '183.5300', '3. low': '183.0580', '4. close': '183.5300', '5. volume': '23015'}, '2024-07-19 11:50:00': {'1. open': '183.2100', '2. high': '183.2400', '3. low': '183.0300', '4. close': '183.0400', '5. volume': '13587'}, '2024-07-19 11:45:00': {'1. open': '183.0100', '2. high': '183.2200', '3. low': '183.0100', '4. close': '183.2100', '5. volume': '16567'}, '2024-07-19 11:40:00': {'1. open': '182.9250', '2. high': '183.0800', '3. low': '182.8800', '4. close': '183.0330', '5. volume': '27717'}, '2024-07-19 11:35:00': {'1. open': '182.8300', '2. high': '182.9900', '3. low': '182.7200', '4. close': '182.9300', '5. volume': '16898'}, '2024-07-19 11:30:00': {'1. open': '183.0350', '2. high': '183.0600', '3. low': '182.8500', '4. close': '182.8900', '5. volume': '19627'}, '2024-07-19 11:25:00': {'1. open': '183.3650', '2. high': '183.4000', '3. low': '182.9600', '4. close': '182.9600', '5. volume': '34924'}, '2024-07-19 11:20:00': {'1. open': '183.4800', '2. high': '183.5400', '3. low': '183.2300', '4. close': '183.3550', '5. volume': '27361'}, '2024-07-19 11:15:00': {'1. open': '183.5380', '2. high': '183.6190', '3. low': '183.4300', '4. close': '183.5100', '5. volume': '21699'}, '2024-07-19 11:10:00': {'1. open': '183.8400', '2. high': '183.8400', '3. low': '183.5120', '4. close': '183.5300', '5. volume': '23946'}, '2024-07-19 11:05:00': {'1. open': '183.6700', '2. high': '183.8500', '3. low': '183.6000', '4. close': '183.8350', '5. volume': '21161'}, '2024-07-19 11:00:00': {'1. open': '183.7200', '2. high': '183.9100', '3. low': '183.6800', '4. close': '183.6800', '5. volume': '28347'}, '2024-07-19 10:55:00': {'1. open': '183.7550', '2. high': '183.9300', '3. low': '183.5850', '4. close': '183.7450', '5. volume': '23789'}, '2024-07-19 10:50:00': {'1. open': '183.6400', '2. high': '183.7700', '3. low': '183.5400', '4. close': '183.6900', '5. volume': '34283'}, '2024-07-19 10:45:00': {'1. open': '184.0600', '2. high': '184.1100', '3. low': '183.6250', '4. close': '183.6600', '5. volume': '21426'}, '2024-07-19 10:40:00': {'1. open': '184.0900', '2. high': '184.1100', '3. low': '183.9100', '4. close': '183.9850', '5. volume': '17841'}}}\n"
     ]
    }
   ],
   "source": [
    "import requests\n",
    "\n",
    "# replace the \"demo\" apikey below with your own key from https://www.alphavantage.co/support/#api-key\n",
    "url = 'https://www.alphavantage.co/query?function=TIME_SERIES_INTRADAY&symbol=IBM&interval=5min&apikey=demo'\n",
    "r = requests.get(url)\n",
    "data = r.json()\n",
    "\n",
    "print(data)"
   ]
  },
  {
   "cell_type": "code",
   "execution_count": 4,
   "id": "47e8b435-46e1-4546-9f02-cb3b41434244",
   "metadata": {},
   "outputs": [
    {
     "data": {
      "text/html": [
       "<div>\n",
       "<style scoped>\n",
       "    .dataframe tbody tr th:only-of-type {\n",
       "        vertical-align: middle;\n",
       "    }\n",
       "\n",
       "    .dataframe tbody tr th {\n",
       "        vertical-align: top;\n",
       "    }\n",
       "\n",
       "    .dataframe thead th {\n",
       "        text-align: right;\n",
       "    }\n",
       "</style>\n",
       "<table border=\"1\" class=\"dataframe\">\n",
       "  <thead>\n",
       "    <tr style=\"text-align: right;\">\n",
       "      <th></th>\n",
       "      <th>1. Information</th>\n",
       "      <th>2. Symbol</th>\n",
       "      <th>3. Last Refreshed</th>\n",
       "      <th>4. Interval</th>\n",
       "      <th>5. Output Size</th>\n",
       "      <th>6. Time Zone</th>\n",
       "    </tr>\n",
       "  </thead>\n",
       "  <tbody>\n",
       "    <tr>\n",
       "      <th>0</th>\n",
       "      <td>Intraday (5min) open, high, low, close prices ...</td>\n",
       "      <td>IBM</td>\n",
       "      <td>2024-07-19 19:55:00</td>\n",
       "      <td>5min</td>\n",
       "      <td>Compact</td>\n",
       "      <td>US/Eastern</td>\n",
       "    </tr>\n",
       "  </tbody>\n",
       "</table>\n",
       "</div>"
      ],
      "text/plain": [
       "                                      1. Information 2. Symbol  \\\n",
       "0  Intraday (5min) open, high, low, close prices ...       IBM   \n",
       "\n",
       "     3. Last Refreshed 4. Interval 5. Output Size 6. Time Zone  \n",
       "0  2024-07-19 19:55:00        5min        Compact   US/Eastern  "
      ]
     },
     "execution_count": 4,
     "metadata": {},
     "output_type": "execute_result"
    }
   ],
   "source": [
    "import pandas as pd\n",
    "df_meta= pd.DataFrame(data['Meta Data'], index=[0])\n",
    "df_meta                      "
   ]
  },
  {
   "cell_type": "code",
   "execution_count": 9,
   "id": "70714ecf-65a3-48c0-a2d0-a3646e3eaebe",
   "metadata": {},
   "outputs": [
    {
     "name": "stdout",
     "output_type": "stream",
     "text": [
      "                  time      open      high       low     close volume\n",
      "0  2024-07-19 19:55:00  183.1100  183.1100  183.0300  183.0300      9\n",
      "1  2024-07-19 19:45:00  183.0100  183.0100  183.0100  183.0100     80\n",
      "2  2024-07-19 19:40:00  183.5000  183.5000  183.5000  183.5000     30\n",
      "3  2024-07-19 19:35:00  183.5000  187.0300  183.5000  187.0300     30\n",
      "4  2024-07-19 19:30:00  183.2000  183.4700  183.2000  183.4700     17\n"
     ]
    }
   ],
   "source": [
    "# Access the correct time series data\n",
    "df = pd.DataFrame(data['Time Series (5min)']).T.reset_index()\n",
    "\n",
    "# Changing the column names\n",
    "df = df.rename({\n",
    "    'index': 'time',\n",
    "    '1. open': 'open',\n",
    "    '2. high': 'high',\n",
    "    '3. low': 'low',\n",
    "    '4. close': 'close',\n",
    "    '5. volume': 'volume'\n",
    "}, axis=1)\n",
    "\n",
    "# Display the DataFrame\n",
    "print(df.head())\n"
   ]
  },
  {
   "cell_type": "code",
   "execution_count": 10,
   "id": "7d28c050-a22e-41ad-a619-cc55794dab9d",
   "metadata": {},
   "outputs": [
    {
     "data": {
      "text/html": [
       "<div>\n",
       "<style scoped>\n",
       "    .dataframe tbody tr th:only-of-type {\n",
       "        vertical-align: middle;\n",
       "    }\n",
       "\n",
       "    .dataframe tbody tr th {\n",
       "        vertical-align: top;\n",
       "    }\n",
       "\n",
       "    .dataframe thead th {\n",
       "        text-align: right;\n",
       "    }\n",
       "</style>\n",
       "<table border=\"1\" class=\"dataframe\">\n",
       "  <thead>\n",
       "    <tr style=\"text-align: right;\">\n",
       "      <th></th>\n",
       "      <th>time</th>\n",
       "      <th>open</th>\n",
       "      <th>high</th>\n",
       "      <th>low</th>\n",
       "      <th>close</th>\n",
       "      <th>volume</th>\n",
       "      <th>ticker</th>\n",
       "    </tr>\n",
       "  </thead>\n",
       "  <tbody>\n",
       "    <tr>\n",
       "      <th>0</th>\n",
       "      <td>2024-07-19 19:55:00</td>\n",
       "      <td>183.1100</td>\n",
       "      <td>183.1100</td>\n",
       "      <td>183.0300</td>\n",
       "      <td>183.0300</td>\n",
       "      <td>9</td>\n",
       "      <td>IBM</td>\n",
       "    </tr>\n",
       "    <tr>\n",
       "      <th>1</th>\n",
       "      <td>2024-07-19 19:45:00</td>\n",
       "      <td>183.0100</td>\n",
       "      <td>183.0100</td>\n",
       "      <td>183.0100</td>\n",
       "      <td>183.0100</td>\n",
       "      <td>80</td>\n",
       "      <td>IBM</td>\n",
       "    </tr>\n",
       "    <tr>\n",
       "      <th>2</th>\n",
       "      <td>2024-07-19 19:40:00</td>\n",
       "      <td>183.5000</td>\n",
       "      <td>183.5000</td>\n",
       "      <td>183.5000</td>\n",
       "      <td>183.5000</td>\n",
       "      <td>30</td>\n",
       "      <td>IBM</td>\n",
       "    </tr>\n",
       "    <tr>\n",
       "      <th>3</th>\n",
       "      <td>2024-07-19 19:35:00</td>\n",
       "      <td>183.5000</td>\n",
       "      <td>187.0300</td>\n",
       "      <td>183.5000</td>\n",
       "      <td>187.0300</td>\n",
       "      <td>30</td>\n",
       "      <td>IBM</td>\n",
       "    </tr>\n",
       "    <tr>\n",
       "      <th>4</th>\n",
       "      <td>2024-07-19 19:30:00</td>\n",
       "      <td>183.2000</td>\n",
       "      <td>183.4700</td>\n",
       "      <td>183.2000</td>\n",
       "      <td>183.4700</td>\n",
       "      <td>17</td>\n",
       "      <td>IBM</td>\n",
       "    </tr>\n",
       "  </tbody>\n",
       "</table>\n",
       "</div>"
      ],
      "text/plain": [
       "                  time      open      high       low     close volume ticker\n",
       "0  2024-07-19 19:55:00  183.1100  183.1100  183.0300  183.0300      9    IBM\n",
       "1  2024-07-19 19:45:00  183.0100  183.0100  183.0100  183.0100     80    IBM\n",
       "2  2024-07-19 19:40:00  183.5000  183.5000  183.5000  183.5000     30    IBM\n",
       "3  2024-07-19 19:35:00  183.5000  187.0300  183.5000  187.0300     30    IBM\n",
       "4  2024-07-19 19:30:00  183.2000  183.4700  183.2000  183.4700     17    IBM"
      ]
     },
     "execution_count": 10,
     "metadata": {},
     "output_type": "execute_result"
    }
   ],
   "source": [
    "df['ticker'] = pd.DataFrame(data['Meta Data'], index=[0])['2. Symbol'][0]\n",
    "df.head()\n"
   ]
  },
  {
   "cell_type": "code",
   "execution_count": 11,
   "id": "337178c2-7133-4aa3-b2ad-6eb7fb84ffa1",
   "metadata": {},
   "outputs": [
    {
     "data": {
      "text/plain": [
       "time      object\n",
       "open      object\n",
       "high      object\n",
       "low       object\n",
       "close     object\n",
       "volume    object\n",
       "ticker    object\n",
       "dtype: object"
      ]
     },
     "execution_count": 11,
     "metadata": {},
     "output_type": "execute_result"
    }
   ],
   "source": [
    "df.dtypes"
   ]
  },
  {
   "cell_type": "code",
   "execution_count": 12,
   "id": "ea49d540-802b-4991-8637-abb5d2105906",
   "metadata": {},
   "outputs": [
    {
     "data": {
      "text/plain": [
       "time       object\n",
       "open      float64\n",
       "high      float64\n",
       "low       float64\n",
       "close     float64\n",
       "volume      int64\n",
       "ticker     object\n",
       "dtype: object"
      ]
     },
     "execution_count": 12,
     "metadata": {},
     "output_type": "execute_result"
    }
   ],
   "source": [
    "# Changing the column names\n",
    "df = df.rename({\n",
    "    'index': 'time',\n",
    "    '1. open': 'open',\n",
    "    '2. high': 'high',\n",
    "    '3. low': 'low',\n",
    "    '4. close': 'close',\n",
    "    '5. volume': 'volume'\n",
    "}, axis=1)\n",
    "\n",
    "# Converting the columns to float, except 'time'\n",
    "df[['open', 'high', 'low', 'close', 'volume']] = df[['open', 'high', 'low', 'close', 'volume']].apply(pd.to_numeric)\n",
    "df.dtypes"
   ]
  },
  {
   "cell_type": "code",
   "execution_count": 13,
   "id": "34a2592f-0bd6-409d-bb03-582d4b741afe",
   "metadata": {},
   "outputs": [
    {
     "name": "stdout",
     "output_type": "stream",
     "text": [
      "Requirement already satisfied: sqlalchemy in /home/ubuntu1234/.local/pipx/venvs/notebook/lib/python3.11/site-packages (2.0.31)\n",
      "Requirement already satisfied: psycopg2-binary in /home/ubuntu1234/.local/pipx/venvs/notebook/lib/python3.11/site-packages (2.9.9)\n",
      "Requirement already satisfied: pandas in /home/ubuntu1234/.local/pipx/venvs/notebook/lib/python3.11/site-packages (2.2.2)\n",
      "Requirement already satisfied: typing-extensions>=4.6.0 in /home/ubuntu1234/.local/pipx/venvs/notebook/lib/python3.11/site-packages (from sqlalchemy) (4.12.2)\n",
      "Requirement already satisfied: greenlet!=0.4.17 in /home/ubuntu1234/.local/pipx/venvs/notebook/lib/python3.11/site-packages (from sqlalchemy) (3.0.3)\n",
      "Requirement already satisfied: numpy>=1.23.2 in /home/ubuntu1234/.local/pipx/venvs/notebook/lib/python3.11/site-packages (from pandas) (2.0.0)\n",
      "Requirement already satisfied: python-dateutil>=2.8.2 in /home/ubuntu1234/.local/pipx/venvs/notebook/lib/python3.11/site-packages (from pandas) (2.9.0.post0)\n",
      "Requirement already satisfied: pytz>=2020.1 in /home/ubuntu1234/.local/pipx/venvs/notebook/lib/python3.11/site-packages (from pandas) (2024.1)\n",
      "Requirement already satisfied: tzdata>=2022.7 in /home/ubuntu1234/.local/pipx/venvs/notebook/lib/python3.11/site-packages (from pandas) (2024.1)\n",
      "Requirement already satisfied: six>=1.5 in /home/ubuntu1234/.local/pipx/venvs/notebook/lib/python3.11/site-packages (from python-dateutil>=2.8.2->pandas) (1.16.0)\n",
      "\n",
      "\u001b[1m[\u001b[0m\u001b[34;49mnotice\u001b[0m\u001b[1;39;49m]\u001b[0m\u001b[39;49m A new release of pip is available: \u001b[0m\u001b[31;49m24.0\u001b[0m\u001b[39;49m -> \u001b[0m\u001b[32;49m24.1.2\u001b[0m\n",
      "\u001b[1m[\u001b[0m\u001b[34;49mnotice\u001b[0m\u001b[1;39;49m]\u001b[0m\u001b[39;49m To update, run: \u001b[0m\u001b[32;49m/home/ubuntu1234/.local/pipx/venvs/notebook/bin/python -m pip install --upgrade pip\u001b[0m\n",
      "Note: you may need to restart the kernel to use updated packages.\n"
     ]
    }
   ],
   "source": [
    "pip install sqlalchemy psycopg2-binary pandas\n"
   ]
  },
  {
   "cell_type": "code",
   "execution_count": 14,
   "id": "3a31cc0a-8dd1-4d9d-9e9f-66f149c2c202",
   "metadata": {},
   "outputs": [
    {
     "name": "stdout",
     "output_type": "stream",
     "text": [
      "Data inserted successfully!\n"
     ]
    }
   ],
   "source": [
    "import pandas as pd\n",
    "from sqlalchemy import create_engine\n",
    "\n",
    "# Assuming 'df' is your DataFrame\n",
    "\n",
    "# Database credentials\n",
    "user = 'postgres'\n",
    "password = 'cleo2030'\n",
    "host = 'localhost'\n",
    "database = 'nytaxi'\n",
    "\n",
    "# Create the connection string\n",
    "connection_string = f'postgresql://{user}:{password}@{host}/{database}'\n",
    "\n",
    "# Create the SQLAlchemy engine\n",
    "engine = create_engine(connection_string)\n",
    "\n",
    "# Insert the DataFrame into the PostgreSQL table\n",
    "table_name = 'stocks'  # Replace with your table name\n",
    "df.to_sql(table_name, engine, if_exists='replace', index=False)\n",
    "\n",
    "print(\"Data inserted successfully!\")\n"
   ]
  },
  {
   "cell_type": "code",
   "execution_count": null,
   "id": "69cd586e-f396-4d3b-aa1f-f9efaa3715ae",
   "metadata": {},
   "outputs": [],
   "source": []
  }
 ],
 "metadata": {
  "kernelspec": {
   "display_name": "Python 3 (ipykernel)",
   "language": "python",
   "name": "python3"
  },
  "language_info": {
   "codemirror_mode": {
    "name": "ipython",
    "version": 3
   },
   "file_extension": ".py",
   "mimetype": "text/x-python",
   "name": "python",
   "nbconvert_exporter": "python",
   "pygments_lexer": "ipython3",
   "version": "3.11.6"
  }
 },
 "nbformat": 4,
 "nbformat_minor": 5
}
